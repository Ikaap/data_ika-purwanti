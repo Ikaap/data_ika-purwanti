{
 "cells": [
  {
   "cell_type": "markdown",
   "metadata": {},
   "source": [
    "# 1. Install Library"
   ]
  },
  {
   "cell_type": "code",
   "execution_count": null,
   "metadata": {},
   "outputs": [],
   "source": [
    "%pip install requests\n",
    "%pip install bs4\n",
    "%pip install beautifulsoup4\n"
   ]
  },
  {
   "cell_type": "markdown",
   "metadata": {},
   "source": [
    "# 2. Import Library"
   ]
  },
  {
   "cell_type": "code",
   "execution_count": null,
   "metadata": {},
   "outputs": [],
   "source": [
    "import requests\n",
    "from bs4 import BeautifulSoup\n",
    "import pandas as pd"
   ]
  },
  {
   "cell_type": "markdown",
   "metadata": {},
   "source": [
    "# 3. Load Data"
   ]
  },
  {
   "cell_type": "markdown",
   "metadata": {},
   "source": [
    "# BULALAPAK"
   ]
  },
  {
   "cell_type": "code",
   "execution_count": 36,
   "metadata": {},
   "outputs": [
    {
     "name": "stdout",
     "output_type": "stream",
     "text": [
      "5\n"
     ]
    },
    {
     "data": {
      "text/html": [
       "<div>\n",
       "<style scoped>\n",
       "    .dataframe tbody tr th:only-of-type {\n",
       "        vertical-align: middle;\n",
       "    }\n",
       "\n",
       "    .dataframe tbody tr th {\n",
       "        vertical-align: top;\n",
       "    }\n",
       "\n",
       "    .dataframe thead th {\n",
       "        text-align: right;\n",
       "    }\n",
       "</style>\n",
       "<table border=\"1\" class=\"dataframe\">\n",
       "  <thead>\n",
       "    <tr style=\"text-align: right;\">\n",
       "      <th></th>\n",
       "      <th>Title</th>\n",
       "      <th>Description</th>\n",
       "      <th>Date</th>\n",
       "      <th>User Name</th>\n",
       "    </tr>\n",
       "  </thead>\n",
       "  <tbody>\n",
       "    <tr>\n",
       "      <th>0</th>\n",
       "      <td>[Barang bagus banget!]</td>\n",
       "      <td>[]</td>\n",
       "      <td>[Ditulis 23 Jun, 2023]</td>\n",
       "      <td>[paulusawproperti]</td>\n",
       "    </tr>\n",
       "    <tr>\n",
       "      <th>1</th>\n",
       "      <td>[Barang bagus banget!]</td>\n",
       "      <td>[Barang sangat bagus dan berfungsi Pengiriman ...</td>\n",
       "      <td>[Ditulis 12 Jul, 2023]</td>\n",
       "      <td>[maryono bin bain]</td>\n",
       "    </tr>\n",
       "    <tr>\n",
       "      <th>2</th>\n",
       "      <td>[Barang bagus banget!]</td>\n",
       "      <td>[]</td>\n",
       "      <td>[Ditulis 29 Jul, 2023]</td>\n",
       "      <td>[Mohammad Jaenal]</td>\n",
       "    </tr>\n",
       "    <tr>\n",
       "      <th>3</th>\n",
       "      <td>[Barang bagus banget!]</td>\n",
       "      <td>[]</td>\n",
       "      <td>[Ditulis 20 Okt, 2023]</td>\n",
       "      <td>[putu wawan darmawan]</td>\n",
       "    </tr>\n",
       "    <tr>\n",
       "      <th>4</th>\n",
       "      <td>[Barang bagus banget!]</td>\n",
       "      <td>[Barang sangat bagus dan berfungsi  sesuai den...</td>\n",
       "      <td>[Ditulis 19 Feb, 2024]</td>\n",
       "      <td>None</td>\n",
       "    </tr>\n",
       "  </tbody>\n",
       "</table>\n",
       "</div>"
      ],
      "text/plain": [
       "                    Title                                        Description  \\\n",
       "0  [Barang bagus banget!]                                                 []   \n",
       "1  [Barang bagus banget!]  [Barang sangat bagus dan berfungsi Pengiriman ...   \n",
       "2  [Barang bagus banget!]                                                 []   \n",
       "3  [Barang bagus banget!]                                                 []   \n",
       "4  [Barang bagus banget!]  [Barang sangat bagus dan berfungsi  sesuai den...   \n",
       "\n",
       "                     Date              User Name  \n",
       "0  [Ditulis 23 Jun, 2023]     [paulusawproperti]  \n",
       "1  [Ditulis 12 Jul, 2023]     [maryono bin bain]  \n",
       "2  [Ditulis 29 Jul, 2023]      [Mohammad Jaenal]  \n",
       "3  [Ditulis 20 Okt, 2023]  [putu wawan darmawan]  \n",
       "4  [Ditulis 19 Feb, 2024]                   None  "
      ]
     },
     "execution_count": 36,
     "metadata": {},
     "output_type": "execute_result"
    }
   ],
   "source": [
    "\n",
    "url = \"https://www.bukalapak.com/p/komputer/monitor/1oyon72-jual-samsung-lc24f390fhexxd-curved-monitor-24-inch-resmi\"\n",
    "response = requests.get(url)\n",
    "\n",
    "soup = BeautifulSoup(response.content, \"html.parser\") \n",
    "reviews = soup.find_all(\"div\", class_=\"c-reviews-item\")\n",
    "    \n",
    "total = len(reviews)\n",
    "print(total)\n",
    "data = []\n",
    "\n",
    "for review in reviews:\n",
    "    # rating = review.find(\"span\", class_=\"a-icon-alt\").text\n",
    "    title_review = review.find(\"h4\", class_=\"c-reviews-item__title u-mrgn-top--1\")\n",
    "    desc_review = review.find(\"p\", attrs={\"data-testid\": \"content\"} )\n",
    "    date_review = review.find(\"p\", class_=\"c-reviews-item__date u-fg--ash\")\n",
    "    name_user = review.find(\"a\", class_=\"c-link--primary--black\")\n",
    "    data.append([title_review, desc_review, date_review, name_user])\n",
    "    \n",
    "df = pd.DataFrame(data, columns=[\"Title\", \"Description\", \"Date\", \"User Name\"])\n",
    "# print(df)\n",
    "# display(df)\n",
    "df"
   ]
  }
 ],
 "metadata": {
  "kernelspec": {
   "display_name": "Python 3",
   "language": "python",
   "name": "python3"
  },
  "language_info": {
   "codemirror_mode": {
    "name": "ipython",
    "version": 3
   },
   "file_extension": ".py",
   "mimetype": "text/x-python",
   "name": "python",
   "nbconvert_exporter": "python",
   "pygments_lexer": "ipython3",
   "version": "3.11.4"
  }
 },
 "nbformat": 4,
 "nbformat_minor": 2
}
