{
 "cells": [
  {
   "cell_type": "markdown",
   "metadata": {},
   "source": [
    "# 1. Install Library"
   ]
  },
  {
   "cell_type": "code",
   "execution_count": 1,
   "metadata": {},
   "outputs": [
    {
     "name": "stdout",
     "output_type": "stream",
     "text": [
      "Requirement already satisfied: requests in c:\\users\\ikapu\\.pyenv\\pyenv-win\\versions\\3.11.4\\lib\\site-packages (2.31.0)Note: you may need to restart the kernel to use updated packages.\n",
      "\n",
      "Requirement already satisfied: charset-normalizer<4,>=2 in c:\\users\\ikapu\\.pyenv\\pyenv-win\\versions\\3.11.4\\lib\\site-packages (from requests) (3.3.2)\n",
      "Requirement already satisfied: idna<4,>=2.5 in c:\\users\\ikapu\\.pyenv\\pyenv-win\\versions\\3.11.4\\lib\\site-packages (from requests) (3.6)\n",
      "Requirement already satisfied: urllib3<3,>=1.21.1 in c:\\users\\ikapu\\.pyenv\\pyenv-win\\versions\\3.11.4\\lib\\site-packages (from requests) (1.26.18)\n",
      "Requirement already satisfied: certifi>=2017.4.17 in c:\\users\\ikapu\\.pyenv\\pyenv-win\\versions\\3.11.4\\lib\\site-packages (from requests) (2024.2.2)\n",
      "Requirement already satisfied: bs4 in c:\\users\\ikapu\\.pyenv\\pyenv-win\\versions\\3.11.4\\lib\\site-packages (0.0.2)Note: you may need to restart the kernel to use updated packages.\n",
      "\n",
      "Requirement already satisfied: beautifulsoup4 in c:\\users\\ikapu\\.pyenv\\pyenv-win\\versions\\3.11.4\\lib\\site-packages (from bs4) (4.12.3)\n",
      "Requirement already satisfied: soupsieve>1.2 in c:\\users\\ikapu\\.pyenv\\pyenv-win\\versions\\3.11.4\\lib\\site-packages (from beautifulsoup4->bs4) (2.5)\n",
      "Requirement already satisfied: beautifulsoup4 in c:\\users\\ikapu\\.pyenv\\pyenv-win\\versions\\3.11.4\\lib\\site-packages (4.12.3)Note: you may need to restart the kernel to use updated packages.\n",
      "\n",
      "Requirement already satisfied: soupsieve>1.2 in c:\\users\\ikapu\\.pyenv\\pyenv-win\\versions\\3.11.4\\lib\\site-packages (from beautifulsoup4) (2.5)\n"
     ]
    }
   ],
   "source": [
    "%pip install requests\n",
    "%pip install bs4\n",
    "%pip install beautifulsoup4\n"
   ]
  },
  {
   "cell_type": "markdown",
   "metadata": {},
   "source": [
    "# 2. Import Library"
   ]
  },
  {
   "cell_type": "code",
   "execution_count": 2,
   "metadata": {},
   "outputs": [],
   "source": [
    "import requests\n",
    "from bs4 import BeautifulSoup\n",
    "import pandas as pd"
   ]
  },
  {
   "cell_type": "markdown",
   "metadata": {},
   "source": [
    "# 3. Load Data"
   ]
  },
  {
   "cell_type": "code",
   "execution_count": 5,
   "metadata": {},
   "outputs": [
    {
     "data": {
      "text/html": [
       "<div>\n",
       "<style scoped>\n",
       "    .dataframe tbody tr th:only-of-type {\n",
       "        vertical-align: middle;\n",
       "    }\n",
       "\n",
       "    .dataframe tbody tr th {\n",
       "        vertical-align: top;\n",
       "    }\n",
       "\n",
       "    .dataframe thead th {\n",
       "        text-align: right;\n",
       "    }\n",
       "</style>\n",
       "<table border=\"1\" class=\"dataframe\">\n",
       "  <thead>\n",
       "    <tr style=\"text-align: right;\">\n",
       "      <th></th>\n",
       "      <th>Rating</th>\n",
       "      <th>Description</th>\n",
       "      <th>Date</th>\n",
       "      <th>User Name</th>\n",
       "    </tr>\n",
       "  </thead>\n",
       "  <tbody>\n",
       "    <tr>\n",
       "      <th>0</th>\n",
       "      <td>5/5</td>\n",
       "      <td>Pengiriman cepat, barang bagus, dapet BH 87%, ...</td>\n",
       "      <td>June 24, 2021</td>\n",
       "      <td>Tarbiyatun Nafiah</td>\n",
       "    </tr>\n",
       "    <tr>\n",
       "      <th>1</th>\n",
       "      <td>5/5</td>\n",
       "      <td>Mantaav 😉</td>\n",
       "      <td>August 12, 2021</td>\n",
       "      <td>Maulana Lazuardi</td>\n",
       "    </tr>\n",
       "    <tr>\n",
       "      <th>2</th>\n",
       "      <td>5/5</td>\n",
       "      <td>A great purchase experience, fast and reliable...</td>\n",
       "      <td>October 28, 2021</td>\n",
       "      <td>Iman Rafief</td>\n",
       "    </tr>\n",
       "    <tr>\n",
       "      <th>3</th>\n",
       "      <td>5/5</td>\n",
       "      <td>rekomen buat yg nyari iphone second atau resmi...</td>\n",
       "      <td>April 8, 2023</td>\n",
       "      <td>Iqbal Samsudin</td>\n",
       "    </tr>\n",
       "    <tr>\n",
       "      <th>4</th>\n",
       "      <td>5/5</td>\n",
       "      <td>productnya bagus, battery health tinggi dan ko...</td>\n",
       "      <td>May 11, 2023</td>\n",
       "      <td>Alvin Mumtaz Hilmi</td>\n",
       "    </tr>\n",
       "    <tr>\n",
       "      <th>5</th>\n",
       "      <td>5/5</td>\n",
       "      <td>bagus kualitasnya tidak mengecewakan, packangi...</td>\n",
       "      <td>June 3, 2023</td>\n",
       "      <td>Mochamad Syandi Dani Nugraha</td>\n",
       "    </tr>\n",
       "    <tr>\n",
       "      <th>6</th>\n",
       "      <td>5/5</td>\n",
       "      <td>Setelah hampir 1bln pemakaian tidak ada kendal...</td>\n",
       "      <td>June 28, 2022</td>\n",
       "      <td>Ari Pangestu</td>\n",
       "    </tr>\n",
       "    <tr>\n",
       "      <th>7</th>\n",
       "      <td>5/5</td>\n",
       "      <td>Kondisi barang bagus bgt dan adminnya selalu r...</td>\n",
       "      <td>May 5, 2022</td>\n",
       "      <td>Farhan Fadillah</td>\n",
       "    </tr>\n",
       "    <tr>\n",
       "      <th>8</th>\n",
       "      <td>5/5</td>\n",
       "      <td>Alhamdulillah dapet flash sale harga yg mantap...</td>\n",
       "      <td>February 16, 2023</td>\n",
       "      <td>Muhammad Riza Azkia</td>\n",
       "    </tr>\n",
       "    <tr>\n",
       "      <th>9</th>\n",
       "      <td>5/5</td>\n",
       "      <td>Pelayanannya sangat ramah sekali . Pengiriman ...</td>\n",
       "      <td>July 12, 2022</td>\n",
       "      <td>Elsa Novi Ayu Wardani</td>\n",
       "    </tr>\n",
       "  </tbody>\n",
       "</table>\n",
       "</div>"
      ],
      "text/plain": [
       "  Rating                                        Description  \\\n",
       "0    5/5  Pengiriman cepat, barang bagus, dapet BH 87%, ...   \n",
       "1    5/5                                          Mantaav 😉   \n",
       "2    5/5  A great purchase experience, fast and reliable...   \n",
       "3    5/5  rekomen buat yg nyari iphone second atau resmi...   \n",
       "4    5/5  productnya bagus, battery health tinggi dan ko...   \n",
       "5    5/5  bagus kualitasnya tidak mengecewakan, packangi...   \n",
       "6    5/5  Setelah hampir 1bln pemakaian tidak ada kendal...   \n",
       "7    5/5  Kondisi barang bagus bgt dan adminnya selalu r...   \n",
       "8    5/5  Alhamdulillah dapet flash sale harga yg mantap...   \n",
       "9    5/5  Pelayanannya sangat ramah sekali . Pengiriman ...   \n",
       "\n",
       "                Date                     User Name  \n",
       "0      June 24, 2021             Tarbiyatun Nafiah  \n",
       "1    August 12, 2021              Maulana Lazuardi  \n",
       "2   October 28, 2021                   Iman Rafief  \n",
       "3      April 8, 2023                Iqbal Samsudin  \n",
       "4       May 11, 2023            Alvin Mumtaz Hilmi  \n",
       "5       June 3, 2023  Mochamad Syandi Dani Nugraha  \n",
       "6      June 28, 2022                  Ari Pangestu  \n",
       "7        May 5, 2022               Farhan Fadillah  \n",
       "8  February 16, 2023           Muhammad Riza Azkia  \n",
       "9      July 12, 2022         Elsa Novi Ayu Wardani  "
      ]
     },
     "execution_count": 5,
     "metadata": {},
     "output_type": "execute_result"
    }
   ],
   "source": [
    "url = \"https://jagofon.com/product/apple-iphone-11-64-gb-black-15352\"\n",
    "response = requests.get(url)\n",
    "\n",
    "soup = BeautifulSoup(response.content, \"html.parser\") \n",
    "reviews = soup.find_all(\"div\", class_=\"reviews-item\")\n",
    "data = []\n",
    "\n",
    "for review in reviews:\n",
    "    rating = review.find(\"span\", class_=\"ml-2 has-text-weight-medium\").text.strip()\n",
    "    desc_review = review.find(\"div\", class_=\"review-comment\" ).text.strip()\n",
    "    dates_review = review.find_all(\"span\", class_=\"has-text-weight-bold\")\n",
    "    if len(dates_review) > 1:\n",
    "        date_review = dates_review[1].text.strip()\n",
    "    name_user = review.find(\"div\", class_=\"review-author\").text.strip()\n",
    "    data.append([rating, desc_review, date_review, name_user])\n",
    "    \n",
    "df_review_product = pd.DataFrame(data, columns=[\"Rating\", \"Description\", \"Date\", \"User Name\"])\n",
    "df_review_product"
   ]
  },
  {
   "cell_type": "markdown",
   "metadata": {},
   "source": [
    "# 4. Export Data"
   ]
  },
  {
   "cell_type": "code",
   "execution_count": 7,
   "metadata": {},
   "outputs": [],
   "source": [
    "df_review_product.to_csv(\"file/Data Review.csv\")"
   ]
  }
 ],
 "metadata": {
  "kernelspec": {
   "display_name": "Python 3",
   "language": "python",
   "name": "python3"
  },
  "language_info": {
   "codemirror_mode": {
    "name": "ipython",
    "version": 3
   },
   "file_extension": ".py",
   "mimetype": "text/x-python",
   "name": "python",
   "nbconvert_exporter": "python",
   "pygments_lexer": "ipython3",
   "version": "3.11.4"
  }
 },
 "nbformat": 4,
 "nbformat_minor": 2
}
